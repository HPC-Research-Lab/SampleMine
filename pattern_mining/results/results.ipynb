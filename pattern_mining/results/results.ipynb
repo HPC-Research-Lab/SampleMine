{
 "cells": [
  {
   "cell_type": "code",
   "execution_count": 7,
   "metadata": {},
   "outputs": [
    {
     "output_type": "stream",
     "name": "stdout",
     "text": "join method\\t3  3\\t3  3\\t2   2  2.1  2.2\n0    sampling ratio\\t2*2\\t4*4\\t2*2*2*2   NaN   NaN NaN  NaN  NaN\n1                       46\\t44\\t16\\t16   NaN   NaN NaN  NaN  NaN\n2                   466\\t639\\t390\\t253   NaN   NaN NaN  NaN  NaN\n3                   658\\t695\\t780\\t439   NaN   NaN NaN  NaN  NaN\n4               1412\\t1431\\t1235\\t1149   NaN   NaN NaN  NaN  NaN\n5               2201\\t2047\\t2666\\t1555   NaN   NaN NaN  NaN  NaN\n6               2703\\t2510\\t2715\\t1961   NaN   NaN NaN  NaN  NaN\n7               3150\\t3173\\t2959\\t2130   NaN   NaN NaN  NaN  NaN\n8               3201\\t3217\\t3235\\t2316   NaN   NaN NaN  NaN  NaN\n9               5152\\t4726\\t5251\\t3398   NaN   NaN NaN  NaN  NaN\n10              5207\\t5237\\t6552\\t3415   NaN   NaN NaN  NaN  NaN\n11              7833\\t8077\\t6649\\t6221   NaN   NaN NaN  NaN  NaN\n12              8620\\t8173\\t8308\\t7574   NaN   NaN NaN  NaN  NaN\n13          25305\\t24565\\t22827\\t21083   NaN   NaN NaN  NaN  NaN\n14          44816\\t43249\\t43411\\t37957   NaN   NaN NaN  NaN  NaN\n15        102841\\t102186\\t96804\\t71129   NaN   NaN NaN  NaN  NaN\n16       131104\\t130858\\t120932\\t92027   NaN   NaN NaN  NaN  NaN\n17      142788\\t146356\\t138151\\t119333   NaN   NaN NaN  NaN  NaN\n18      425608\\t395543\\t460303\\t304301   NaN   NaN NaN  NaN  NaN\n19      577838\\t574385\\t547677\\t413795   NaN   NaN NaN  NaN  NaN\n20  2342108\\t2395135\\t2306295\\t1940173   NaN   NaN NaN  NaN  NaN\n21  3835826\\t3717669\\t3891252\\t4000069   NaN   NaN NaN  NaN  NaN\n"
    }
   ],
   "source": [
    "import pandas as pd\n",
    "mc5_citeseer = pd.read_csv(\"mc5_citeseer.csv\", sep='\\t')\n",
    "print(mc5_citeseer)"
   ]
  }
 ],
 "metadata": {
  "language_info": {
   "codemirror_mode": {
    "name": "ipython",
    "version": 3
   },
   "file_extension": ".py",
   "mimetype": "text/x-python",
   "name": "python",
   "nbconvert_exporter": "python",
   "pygments_lexer": "ipython3",
   "version": "3.7.7-final"
  },
  "orig_nbformat": 2,
  "kernelspec": {
   "name": "python37764bitpytorchcondaef2542dd245b4672a4d599b2ae4e3eb1",
   "display_name": "Python 3.7.7 64-bit ('pytorch': conda)"
  }
 },
 "nbformat": 4,
 "nbformat_minor": 2
}